{
 "cells": [
  {
   "cell_type": "code",
   "execution_count": 1,
   "id": "26c03bde-d1dc-4a80-b5cc-b6b579b2b3be",
   "metadata": {},
   "outputs": [
    {
     "name": "stdout",
     "output_type": "stream",
     "text": [
      "[[1.+0.j 0.+0.j 0.+0.j 0.+0.j]\n",
      " [0.+0.j 0.+0.j 0.+0.j 1.+0.j]\n",
      " [0.+0.j 0.+0.j 1.+0.j 0.+0.j]\n",
      " [0.+0.j 1.+0.j 0.+0.j 0.+0.j]]\n",
      "[[ 0.+0.j  0.+0.j  1.+0.j  0.+0.j]\n",
      " [ 0.+0.j -1.+0.j  0.+0.j  0.+0.j]\n",
      " [ 1.+0.j  0.+0.j  0.+0.j  0.+0.j]\n",
      " [ 0.+0.j  0.+0.j  0.+0.j -1.+0.j]]\n"
     ]
    }
   ],
   "source": [
    "import numpy as np\n",
    "\n",
    "#general single-qubit unitary\n",
    "def U (A): # A - array of Euler angles\n",
    "    M = [[ np.cos(A[0]/2), -np.exp(1j*A[1]) * np.sin(A[0]/2)],[ np.exp(1j*A[2]) * np.sin(A[0]/2), np.exp(1j*A[2]+1j*A[1]) * np.cos(A[0]/2)]]\n",
    "    return M\n",
    "CNOT = [[1,0,0,0],[0,0,0,1],[0,0,1,0],[0,1,0,0]]\n",
    "\n",
    "# Function for final unitary \n",
    "def Uf (A1,A2,A3,A4,A5,A6,A7,A8): \n",
    "    \n",
    "    U12 = np.kron(U(A1),U(A2))\n",
    "    U34 = np.kron(U(A3),U(A4))\n",
    "    U56 = np.kron(U(A5),U(A6))\n",
    "    U78 = np.kron(U(A7),U(A8))\n",
    "    \n",
    "    UFinal = U12 @ CNOT @ U34 @ CNOT @ U56 @ CNOT @ U78\n",
    "    return UFinal\n",
    "    \n",
    "# Function to truncate values\n",
    "def clean(U): \n",
    "    Ur = U.real\n",
    "    Ur[abs(Ur)<1e-14]=0\n",
    "    Ui = U.imag\n",
    "    Ui[abs(Ui)<1e-14]=0\n",
    "    Uc = Ur + 1j*Ui\n",
    "    return Uc\n",
    "    \n",
    "X = [np.pi , np.pi,0] # x gate\n",
    "Z = [0, np.pi,0] # z gate \n",
    "\n",
    "\n",
    "U1 = Uf(X,X,X,X,X,X,X,X)\n",
    "U2 = Uf(Z,Z,Z,Z,X,X,X,X)\n",
    "\n",
    "print(clean(U1))\n",
    "print(clean(U2))"
   ]
  },
  {
   "cell_type": "code",
   "execution_count": null,
   "id": "cf1e4cce-8ab0-463a-b651-8342e5353947",
   "metadata": {},
   "outputs": [],
   "source": []
  }
 ],
 "metadata": {
  "kernelspec": {
   "display_name": "Python 3 (ipykernel)",
   "language": "python",
   "name": "python3"
  },
  "language_info": {
   "codemirror_mode": {
    "name": "ipython",
    "version": 3
   },
   "file_extension": ".py",
   "mimetype": "text/x-python",
   "name": "python",
   "nbconvert_exporter": "python",
   "pygments_lexer": "ipython3",
   "version": "3.8.3"
  }
 },
 "nbformat": 4,
 "nbformat_minor": 5
}

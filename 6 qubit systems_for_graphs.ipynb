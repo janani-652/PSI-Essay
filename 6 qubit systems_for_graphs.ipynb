{
 "cells": [
  {
   "cell_type": "code",
   "execution_count": 2,
   "id": "0f97415f-7924-4797-b5cf-b6014c3685d1",
   "metadata": {
    "collapsed": true,
    "jupyter": {
     "outputs_hidden": true
    }
   },
   "outputs": [],
   "source": [
    "import numpy as np\n",
    "import random \n",
    "from scipy.stats import unitary_group\n",
    "from scipy.sparse import csr_matrix, kron\n",
    "from itertools import combinations\n",
    "\n",
    "import matplotlib.pyplot as plt\n",
    "from IPython.display import display\n",
    "from PIL import Image"
   ]
  },
  {
   "cell_type": "code",
   "execution_count": 3,
   "id": "9e29d27d-d0f4-4106-b8cd-0e76b6078c64",
   "metadata": {
    "collapsed": true,
    "jupyter": {
     "outputs_hidden": true
    }
   },
   "outputs": [
    {
     "name": "stdout",
     "output_type": "stream",
     "text": [
      "(64, 64)\n"
     ]
    }
   ],
   "source": [
    "\n",
    "# Define CNOT gate (control=0, target=1)\n",
    "CNOT = np.array([\n",
    "    [1, 0, 0, 0],\n",
    "    [0, 1, 0, 0],\n",
    "    [0, 0, 0, 1],\n",
    "    [0, 0, 1, 0]\n",
    "], dtype=complex)\n",
    "\n",
    "def generate_matchings(qubits):\n",
    "    if not qubits:\n",
    "        return [[]]\n",
    "    matchings = []\n",
    "    first = qubits[0]\n",
    "    for i in range(1, len(qubits)):\n",
    "        pair = (first, qubits[i])\n",
    "        rest = qubits[1:i] + qubits[i+1:]\n",
    "        for submatching in generate_matchings(rest):\n",
    "            matchings.append([pair] + submatching)\n",
    "    return matchings\n",
    "# Debugged using ChatGPT\n",
    "def apply_cnot_matrix_on_nqubits(control, target, n):\n",
    "    I = np.eye(2)\n",
    "    X = np.array([[0, 1], [1, 0]])\n",
    "\n",
    "    result = np.zeros((2**n, 2**n), dtype=complex)\n",
    "    for i in range(2**n):\n",
    "        b = list(np.binary_repr(i, width=n))\n",
    "        #b = list(f\"{i:0{n}b}\")\n",
    "        if b[control] == '1':\n",
    "            if b[target] == '1':\n",
    "                b[target] = '0' \n",
    "            else:\n",
    "                b[target] = '1'\n",
    "        #j = int(''.join(b), 2)\n",
    "        j = int(''.join(str(bit) for bit in b), 2)\n",
    "        result[j, i] = 1\n",
    "    return csr_matrix(result)\n",
    "\n",
    "def build_cnot_matrix_for_matching(matching, n=6):\n",
    "    U = csr_matrix(np.eye(2**n, dtype=complex))\n",
    "    for control, target in matching:\n",
    "        U = apply_cnot_matrix_on_nqubits(control, target, n) @ U\n",
    "    return U\n",
    "\n",
    "qubits = list(range(6))\n",
    "matchings = generate_matchings(qubits)\n",
    "# Sort matchings for consistency suggested by CHatGPT\n",
    "matchings = [sorted([tuple(sorted(pair)) for pair in m]) for m in matchings]\n",
    "matchings = sorted(matchings)\n",
    "\n",
    "CNOTS = [build_cnot_matrix_for_matching(m) for m in matchings]\n",
    "print(np.shape(CNOTS[0]))"
   ]
  },
  {
   "cell_type": "code",
   "execution_count": 4,
   "id": "d48cf87d-0ca9-454b-953d-589168d570e2",
   "metadata": {
    "collapsed": true,
    "jupyter": {
     "outputs_hidden": true
    }
   },
   "outputs": [],
   "source": [
    "Y = np.array([[0,-1j],[1j,0]])\n",
    "Z = np.array([[1,0],[0,-1]])\n",
    "\n",
    "# defining rotation gates\n",
    "def Ry(A):\n",
    "    sn, cs = np.sin(A/2), np.cos(A/2)\n",
    "    M = np.array([[cs,-sn],[sn, cs]])\n",
    "    return M\n",
    "def Rz(A):\n",
    "    phi = np.exp(-1j*A/2)\n",
    "    M = np.array([[phi,0],[0,np.conj(phi)]])\n",
    "    return M\n",
    "    \n",
    "#Returns a length-2 array instead of 2x2 matrix. Faster, since it's diagonal. Good for Z rotations!\n",
    "def Rz2(A):\n",
    "    phi = np.exp(-1j*A/2)\n",
    "    return np.array([phi, np.conj(phi)])\n",
    "    \n",
    "def Rz2t(A):\n",
    "    phi = np.exp(-1j*A/2)\n",
    "    return np.array([[phi], [np.conj(phi)]])\n",
    "\n",
    "Z2 = np.array([1,-1])\n",
    "Z2t = np.array([[1],[-1]])\n",
    "    \n",
    "# Parameterising the general unitary with rotation gates\n",
    "def U(A0,A1,A2): # Arguments: Euler Angles\n",
    "    M = Rz2t(A1) * Ry(A0) * Rz2(A2)\n",
    "    return M\n",
    "\n",
    "# derivatives wrt A0,A1,A2\n",
    "def DA0(A0,A1,A2):\n",
    "    dA0 = (-1j/2)*(Rz(A1)@Y@Ry(A0)@Rz(A2))\n",
    "    return dA0\n",
    "def DA1(A0,A1,A2):\n",
    "    dA1 = (-1j/2)*(Z@Rz(A1)@Ry(A0)@Rz(A2))\n",
    "    return dA1\n",
    "def DA2 (A0,A1,A2):\n",
    "    dA2 = (-1j/2)*(Rz(A1)@Ry(A0)@Z@Rz(A2))\n",
    "    return dA2\n",
    "\n",
    "#Compute U and all three derivatives together, to save computation\n",
    "def DA_all(A0,A1,A2):\n",
    "    R1 = Rz2t(A1)\n",
    "    R0 = Ry(A0)\n",
    "    R2 = Rz2(A2)\n",
    "    R02 = R0 * R2\n",
    "    R102 = R1 * R02\n",
    "    U = R102\n",
    "    dA0 = (-0.5j) * R1 * (Y @ R02)\n",
    "    dA1 = (-0.5j) * Z2t * R102\n",
    "    dA2 = (-0.5j) * R102 * Z2\n",
    "    return (U, dA0, dA1, dA2)\n",
    "\n",
    "# defining inverse\n",
    "def inverse(M):\n",
    "    M_inverse = M.transpose().conjugate()\n",
    "    return M_inverse\n",
    "    \n",
    "def parameters(layers): # layers = number of unitary layers, so no-of CNOTs = layers - 1\n",
    "    A = np.zeros((6*layers,3))\n",
    "    for i in range(6*layers):\n",
    "        for j in range(3):\n",
    "            A[i][j] = random.uniform(0.0, 4*np.pi) \n",
    "    return A\n",
    "    \n",
    "def Ulist(layers, A):\n",
    "    U_list=[]\n",
    "    for i in range(6*layers):\n",
    "        Ui = U(A[i][0],A[i][1],A[i][2])\n",
    "        U_list.append(Ui)\n",
    "    return U_list\n",
    "\n",
    "#Get the unitary created by these four single-qubit unitaries at layer i.\n",
    "def U_6squ(A, i):\n",
    "    U1 = U(A[6*i  ][0],A[6*i  ][1],A[6*i  ][2])\n",
    "    U2 = U(A[6*i+1][0],A[6*i+1][1],A[6*i+1][2])\n",
    "    U3 = U(A[6*i+2][0],A[6*i+2][1],A[6*i+2][2])\n",
    "    U4 = U(A[6*i+3][0],A[6*i+3][1],A[6*i+3][2])\n",
    "    U5 = U(A[6*i+4][0],A[6*i+4][1],A[6*i+4][2])\n",
    "    U6 = U(A[6*i+5][0],A[6*i+5][1],A[6*i+5][2])\n",
    "    return np.kron(np.kron(np.kron(U1, U2), np.kron(U3, U4)), np.kron(U5,U6))\n",
    "\n",
    "#Like `U_6squ` - But, optionally, skip the single unitary labelled j.\n",
    "def U_6squ_skip(A, i, j):\n",
    "    U1 = np.eye(2) if 6*i   == j else U(A[6*i  ][0],A[6*i  ][1],A[6*i  ][2])\n",
    "    U2 = np.eye(2) if 6*i+1 == j else U(A[6*i+1][0],A[6*i+1][1],A[6*i+1][2])\n",
    "    U3 = np.eye(2) if 6*i+2 == j else U(A[6*i+2][0],A[6*i+2][1],A[6*i+2][2])\n",
    "    U4 = np.eye(2) if 6*i+3 == j else U(A[6*i+3][0],A[6*i+3][1],A[6*i+3][2])\n",
    "    U5 = np.eye(2) if 6*i+4 == j else U(A[6*i+4][0],A[6*i+4][1],A[6*i+4][2])\n",
    "    U6 = np.eye(2) if 6*i+5 == j else U(A[6*i+5][0],A[6*i+5][1],A[6*i+5][2])\n",
    "\n",
    "    return np.kron(np.kron(np.kron(U1, U2), np.kron(U3, U4)), np.kron(U5,U6))\n",
    "\n",
    "#Given a 1-qubit unitary Ui on site s (0-5), expand it to a 6-qubit unitary.\n",
    "def expand_on_site(Ui, s):\n",
    "    if s == 0:\n",
    "        return np.kron(Ui, np.eye(32))\n",
    "    elif s == 1:\n",
    "        return np.kron(np.eye(2), np.kron(Ui, np.eye(16)))\n",
    "    elif s == 2:\n",
    "        return np.kron(np.eye(4), np.kron(Ui, np.eye(8)))\n",
    "    elif s == 3:\n",
    "        return np.kron(np.eye(8), np.kron(Ui, np.eye(4)))\n",
    "    elif s == 4:\n",
    "        return np.kron(np.eye(16), np.kron(Ui, np.eye(2)))\n",
    "    elif s == 5:\n",
    "        return np.kron(np.eye(32), Ui)\n",
    "    \n",
    "#Like `U_4squ`, but it's only the unitary at the one site j. That is, it's the single-qubit\n",
    "#unitary, but expanded to 4-qubits.\n",
    "def U_6squ_only(A, j):\n",
    "    # i = j // 4\n",
    "    # U1 = np.eye(2) if 4*i   != j else U(A[4*i  ][0],A[4*i  ][1],A[4*i  ][2])\n",
    "    # U2 = np.eye(2) if 4*i+1 != j else U(A[4*i+1][0],A[4*i+1][1],A[4*i+1][2])\n",
    "    # U3 = np.eye(2) if 4*i+2 != j else U(A[4*i+2][0],A[4*i+2][1],A[4*i+2][2])\n",
    "    # U4 = np.eye(2) if 4*i+3 != j else U(A[4*i+3][0],A[4*i+3][1],A[4*i+3][2])\n",
    "    # return np.kron(np.kron(U1, U2), np.kron(U3, U4))\n",
    "    return expand_on_site(U(A[j][0],A[j][1],A[j][2]), j % 6)\n",
    "    \n",
    "#Construct the unitary for the circuit parameterized by \"A\".\n",
    "def make_circuit(A, layers):\n",
    "    U = np.eye(64)\n",
    "    for i in range(layers-1): #layers-1, because we don't do a CNOT at the end\n",
    "        U = U @ U_6squ(A, i) @ CNOTS[i%15]\n",
    "    U = U @ U_6squ(A, layers-1)\n",
    "    return U\n",
    "\n",
    "#Measure the error between the circuit parameterized by \"A\" and U_goal.\n",
    "def get_error(A, layers, U_goal):\n",
    "    U = make_circuit(A, layers)\n",
    "    Tr = np.trace(U @ inverse(U_goal))\n",
    "    Abs = np.abs(Tr)\n",
    "    Uerr = 64 - Abs\n",
    "    return Uerr\n",
    "\n",
    "def circuit_structure(A, layers, j, U_goal): # qubit number    \n",
    "    q = (j-1) // 6\n",
    "    Uf = np.eye(64)\n",
    "    Ub = np.eye(64)\n",
    "    for it in range(q):\n",
    "        Uf = Uf @ U_6squ(A, it) @ CNOTS[it%15]\n",
    "    Uf = Uf @ U_6squ_skip(A, q, j-1)\n",
    "    for ib in range(q+1, layers):\n",
    "        Ub = Ub @ CNOTS[(ib-1)%15] @ U_6squ(A, ib)\n",
    "    U_tbm = inverse(Uf) @ U_goal @ inverse(Ub) # U_tbm = rhs , U to be made\n",
    "    return U_tbm\n",
    "\n",
    "#The trace inner product of two matrices. Equal to np.trace(A @ inverse(B)), but faster\n",
    "def trace_prod_inv(A, B):\n",
    "    # return np.trace(A @ inverse(B))\n",
    "    return np.conj(np.vdot(A, B))\n"
   ]
  },
  {
   "cell_type": "code",
   "execution_count": 5,
   "id": "71ed553e-33f7-46db-ab52-5162c2897047",
   "metadata": {
    "collapsed": true,
    "jupyter": {
     "outputs_hidden": true
    }
   },
   "outputs": [],
   "source": [
    "#Replaces computing the gradient + gradual adjustment, with just rounding each goal directly to its nearest unitary\n",
    "#and using that. Note: no \"alpha\" for learning rate anymore.\n",
    "def gradient_descent3(layers,U_goal, A, iterations):\n",
    "    nsu = 6*layers #(number of single qubit unitaries)\n",
    "    #inner_iterations = int(iterations/10)\n",
    "    #print(inner_iterations)\n",
    "    stop_flag=0\n",
    "    Uerr_array = []\n",
    "\n",
    "    for i in range(iterations):\n",
    "        if i%10==0:\n",
    "            print(\"iteration\",i)\n",
    "        if stop_flag ==1:\n",
    "            print(\"Truncation\")\n",
    "            break\n",
    "\n",
    "        #Kepp running track of the error: inverse(Uf) * U_goal * inverse(Ub). We'll update this dynamically.\n",
    "        Ub = U_6squ(A, 0)\n",
    "        for l in range(1, layers):\n",
    "            Ub = Ub @ CNOTS[(l-1)%15] @ U_6squ(A, l)\n",
    "        Ui_err = U_goal @ inverse(Ub)\n",
    "            \n",
    "        for l in range(0, layers):            \n",
    "            for s in [0,1,2,3,4,5]:\n",
    "                j = 6*l+s\n",
    "                \n",
    "                # RHS\n",
    "                Ui_err = Ui_err @ U_6squ_only(A, j)\n",
    "\n",
    "                #check how to generalise partial trace\n",
    "                #Compute the partial trace of Ui, to leave just the `s` qubit part\n",
    "                if s == 0:\n",
    "                    Ui2 = np.trace(Ui_err.reshape(2,32, 2,32), axis1=1, axis2=3)\n",
    "                \n",
    "                elif s == 1:\n",
    "                    Ui2 = Ui_err.reshape(2,2,16, 2,2,16)\n",
    "                    Ui2 = np.trace(Ui2, axis1=0, axis2=3)  # trace over qubit 0\n",
    "                    Ui2 = np.trace(Ui2, axis1=1, axis2=3)  # trace over qubit 1 (axes shifted)\n",
    "                \n",
    "                elif s == 2:\n",
    "                    Ui2 = Ui_err.reshape(4,2,8, 4,2,8)\n",
    "                    Ui2 = np.trace(Ui2, axis1=0, axis2=3)  # trace over qubit 0\n",
    "                    Ui2 = np.trace(Ui2, axis1=1, axis2=3)  # trace over qubit 1\n",
    "                \n",
    "                elif s == 3:\n",
    "                    Ui2 = Ui_err.reshape(8,2,4, 8,2,4)\n",
    "                    Ui2 = np.trace(Ui2, axis1=0, axis2=3)  # trace over qubit 0\n",
    "                    Ui2 = np.trace(Ui2, axis1=1, axis2=3) \n",
    "                \n",
    "                elif s == 4:\n",
    "                    Ui2 = Ui_err.reshape(16,2,2, 16,2,2)\n",
    "                    Ui2 = np.trace(Ui2, axis1=0, axis2=3)  # trace over qubit 0\n",
    "                    Ui2 = np.trace(Ui2, axis1=1, axis2=3) \n",
    "                \n",
    "                elif s == 5:\n",
    "                    Ui2 = np.trace(Ui_err.reshape(32,2, 32,2), axis1=0, axis2=2)  # trace over qubit 5\n",
    "\n",
    "                #Round goal to nearest unitary\n",
    "                svd = np.linalg.svd(Ui2)\n",
    "                unitized = svd[0] @ svd[2]\n",
    "                unitized /= np.sqrt(np.linalg.det(unitized)) #Convert from U(2) to SU(2)\n",
    "\n",
    "                # Get Euler angles\n",
    "                beta = 2 * np.arctan(np.abs(unitized[1][0] / unitized[0][0]))\n",
    "                phia = np.angle(unitized[0][0])\n",
    "                phib = np.angle(unitized[1][0])\n",
    "                a = phib - phia\n",
    "                c = -(phia + phib)\n",
    "                \n",
    "                A[j][0]=beta\n",
    "                A[j][1]=a\n",
    "                A[j][2]=c\n",
    "                \n",
    "                #computing cost function\n",
    "                # Uk = U(A0,A1,A2)\n",
    "                Uk = unitized\n",
    "                Tr = trace_prod_inv(Ui2, unitized)\n",
    "                Abs = np.abs(Tr)\n",
    "                Uerr = 64 - Abs\n",
    "                if Uerr < 1e-8:\n",
    "                    stop_flag=1\n",
    "                    break\n",
    "                Uerr_array.append(Uerr)\n",
    "                #print(np.shape(unitized))\n",
    "                Ui_err = inverse(expand_on_site(unitized, s)) @ Ui_err\n",
    "                \n",
    "            Ui_err = CNOTS[l%15] @ Ui_err @ CNOTS[l%15]\n",
    "            if stop_flag==1:\n",
    "                break\n",
    "            \n",
    "    return Uerr_array\n",
    "    #return Aopt, stop_flag"
   ]
  },
  {
   "cell_type": "code",
   "execution_count": 28,
   "id": "3d492db5-72db-4187-8afe-82f964122fa2",
   "metadata": {
    "collapsed": true,
    "jupyter": {
     "outputs_hidden": true,
     "source_hidden": true
    }
   },
   "outputs": [
    {
     "name": "stdout",
     "output_type": "stream",
     "text": [
      "iteration 0\n",
      "iteration 10\n",
      "iteration 20\n",
      "iteration 30\n",
      "iteration 40\n",
      "iteration 50\n",
      "iteration 60\n",
      "iteration 70\n",
      "iteration 80\n",
      "iteration 90\n",
      "iteration 100\n",
      "iteration 110\n",
      "iteration 120\n",
      "iteration 130\n",
      "iteration 140\n",
      "iteration 150\n",
      "iteration 160\n",
      "iteration 170\n",
      "iteration 180\n",
      "iteration 190\n",
      "iteration 200\n",
      "iteration 210\n",
      "iteration 220\n",
      "iteration 230\n",
      "iteration 240\n",
      "iteration 250\n",
      "iteration 260\n",
      "iteration 270\n",
      "iteration 280\n",
      "iteration 290\n",
      "iteration 300\n",
      "iteration 310\n",
      "iteration 320\n",
      "iteration 330\n",
      "iteration 340\n",
      "iteration 350\n",
      "iteration 360\n",
      "iteration 370\n",
      "iteration 380\n",
      "iteration 390\n",
      "iteration 400\n",
      "iteration 410\n",
      "iteration 420\n",
      "iteration 430\n",
      "iteration 440\n",
      "iteration 450\n",
      "iteration 460\n",
      "iteration 470\n",
      "iteration 480\n",
      "iteration 490\n",
      "iteration 500\n",
      "iteration 510\n",
      "iteration 520\n",
      "iteration 530\n",
      "iteration 540\n",
      "iteration 550\n",
      "iteration 560\n",
      "iteration 570\n",
      "iteration 580\n",
      "iteration 590\n",
      "iteration 600\n",
      "iteration 610\n",
      "iteration 620\n",
      "iteration 630\n",
      "iteration 640\n",
      "iteration 650\n",
      "iteration 660\n",
      "iteration 670\n",
      "iteration 680\n",
      "iteration 690\n",
      "iteration 700\n",
      "iteration 710\n",
      "iteration 720\n",
      "iteration 730\n",
      "iteration 740\n",
      "iteration 750\n",
      "iteration 760\n",
      "iteration 770\n",
      "iteration 780\n",
      "iteration 790\n",
      "iteration 800\n",
      "iteration 810\n",
      "iteration 820\n",
      "iteration 830\n",
      "iteration 840\n",
      "iteration 850\n",
      "iteration 860\n",
      "iteration 870\n",
      "iteration 880\n",
      "iteration 890\n",
      "iteration 900\n",
      "iteration 910\n",
      "iteration 920\n",
      "iteration 930\n",
      "iteration 940\n",
      "iteration 950\n",
      "iteration 960\n",
      "iteration 970\n",
      "iteration 980\n",
      "iteration 990\n"
     ]
    }
   ],
   "source": [
    "# layers = 300\n",
    "# U_goal = (unitary_group.rvs(64))\n",
    "# #print(U_goal)\n",
    "# A = parameters(layers)\n",
    "# #print(np.shape(A))\n",
    "# AOpt =np.copy(A)\n",
    "# #print(\"Initialisation:\")\n",
    "# Uerr = gradient_descent3(layers,U_goal, AOpt, 1000)\n",
    "\n",
    "    "
   ]
  },
  {
   "cell_type": "code",
   "execution_count": 29,
   "id": "9f5c60d9-17d6-48b0-bbb7-01d50a768be8",
   "metadata": {
    "collapsed": true,
    "jupyter": {
     "outputs_hidden": true,
     "source_hidden": true
    }
   },
   "outputs": [
    {
     "name": "stdout",
     "output_type": "stream",
     "text": [
      "\n",
      "Iterations: 1800000\n",
      "Final error: -0.49911827020815175\n"
     ]
    }
   ],
   "source": [
    "# print(\"\\nIterations:\",len(Uerr))\n",
    "# print(\"Final error:\",np.log10(Uerr[-1]))\n",
    "# plt.plot(np.log10(Uerr))\n",
    "# plt.title(\"test\")\n",
    "# plt.savefig(\"test\")\n",
    "# plt.close()"
   ]
  },
  {
   "cell_type": "code",
   "execution_count": 31,
   "id": "05653c35-5c6c-4cf5-922c-ec8bd3edddf9",
   "metadata": {
    "collapsed": true,
    "jupyter": {
     "outputs_hidden": true,
     "source_hidden": true
    }
   },
   "outputs": [
    {
     "data": {
      "text/plain": [
       "[<matplotlib.lines.Line2D at 0x18e7364ee80>]"
      ]
     },
     "execution_count": 31,
     "metadata": {},
     "output_type": "execute_result"
    },
    {
     "data": {
      "image/png": "[encoded data removed]",
      "text/plain": [
       "<Figure size 640x480 with 1 Axes>"
      ]
     },
     "metadata": {},
     "output_type": "display_data"
    }
   ],
   "source": [
    "# np.save('layers_300.npy', Uerr)\n",
    "# loaded_data = np.load('layers_300.npy')\n",
    "# plt.plot(np.log10(loaded_data))"
   ]
  },
  {
   "cell_type": "code",
   "execution_count": 30,
   "id": "7e10ee06-e104-4184-89c2-7a721e7df195",
   "metadata": {
    "collapsed": true,
    "jupyter": {
     "outputs_hidden": true,
     "source_hidden": true
    }
   },
   "outputs": [
    {
     "data": {
      "image/png": "[encoded data removed]",
      "text/plain": [
       "<PIL.PngImagePlugin.PngImageFile image mode=RGBA size=640x480>"
      ]
     },
     "metadata": {},
     "output_type": "display_data"
    }
   ],
   "source": [
    "# img11 = Image.open(\"test.png\") \n",
    "# display(img11)"
   ]
  },
  {
   "cell_type": "code",
   "execution_count": null,
   "id": "f2f63cec-b71f-4704-82f6-ef05446172af",
   "metadata": {
    "collapsed": true,
    "jupyter": {
     "outputs_hidden": true,
     "source_hidden": true
    }
   },
   "outputs": [
    {
     "name": "stdout",
     "output_type": "stream",
     "text": [
      "iteration 0\n",
      "iteration 10\n",
      "iteration 20\n",
      "iteration 30\n"
     ]
    }
   ],
   "source": [
    "# layers = 350\n",
    "# U_goal = (unitary_group.rvs(64))\n",
    "# #print(U_goal)\n",
    "# A = parameters(layers)\n",
    "# #print(np.shape(A))\n",
    "# AOpt =np.copy(A)\n",
    "# #print(\"Initialisation:\")\n",
    "# Uerr1 = gradient_descent3(layers,U_goal, AOpt, 3000)\n"
   ]
  },
  {
   "cell_type": "code",
   "execution_count": 11,
   "id": "8574e9e1-277c-462a-b163-7519ea29ee69",
   "metadata": {
    "collapsed": true,
    "jupyter": {
     "outputs_hidden": true,
     "source_hidden": true
    }
   },
   "outputs": [
    {
     "name": "stdout",
     "output_type": "stream",
     "text": [
      "\n",
      "Iterations: 6405089\n",
      "Final error: -7.999999964066315\n"
     ]
    }
   ],
   "source": [
    "# print(\"\\nIterations:\",len(Uerr1))\n",
    "# print(\"Final error:\",np.log10(Uerr1[-1]))\n",
    "# plt.plot(np.log10(Uerr1))\n",
    "# plt.title(\"test1\")\n",
    "# plt.savefig(\"test1\")\n",
    "# plt.close()"
   ]
  },
  {
   "cell_type": "code",
   "execution_count": 9,
   "id": "13e50241-e6cc-42ee-83f1-35d95885c7cf",
   "metadata": {
    "collapsed": true,
    "jupyter": {
     "outputs_hidden": true,
     "source_hidden": true
    }
   },
   "outputs": [
    {
     "data": {
      "image/png": "[encoded data removed]",
      "text/plain": [
       "<PIL.PngImagePlugin.PngImageFile image mode=RGBA size=640x480>"
      ]
     },
     "metadata": {},
     "output_type": "display_data"
    }
   ],
   "source": [
    "# img22 = Image.open(\"test1.png\") \n",
    "# display(img22)"
   ]
  },
  {
   "cell_type": "code",
   "execution_count": 12,
   "id": "6965978c-9dec-46f3-87e0-e68b92ba4988",
   "metadata": {
    "collapsed": true,
    "jupyter": {
     "outputs_hidden": true,
     "source_hidden": true
    }
   },
   "outputs": [
    {
     "data": {
      "text/plain": [
       "[<matplotlib.lines.Line2D at 0x28315038400>]"
      ]
     },
     "execution_count": 12,
     "metadata": {},
     "output_type": "execute_result"
    },
    {
     "data": {
      "image/png": "[encoded data removed]",
      "text/plain": [
       "<Figure size 640x480 with 1 Axes>"
      ]
     },
     "metadata": {},
     "output_type": "display_data"
    }
   ],
   "source": [
    "# np.save('layers_350.npy', Uerr1)\n",
    "# loaded_data = np.load('layers_350.npy')\n",
    "# plt.plot(np.log10(loaded_data))"
   ]
  },
  {
   "cell_type": "code",
   "execution_count": 13,
   "id": "fbf80926-b77f-4a64-b163-310812135850",
   "metadata": {
    "collapsed": true,
    "jupyter": {
     "outputs_hidden": true,
     "source_hidden": true
    }
   },
   "outputs": [
    {
     "data": {
      "text/plain": [
       "[<matplotlib.lines.Line2D at 0x28316f0f490>]"
      ]
     },
     "execution_count": 13,
     "metadata": {},
     "output_type": "execute_result"
    },
    {
     "data": {
      "image/png": "[encoded data removed]",
      "text/plain": [
       "<Figure size 640x480 with 1 Axes>"
      ]
     },
     "metadata": {},
     "output_type": "display_data"
    }
   ],
   "source": [
    "# loaded_data1 = np.load('layers_300.npy')\n",
    "# plt.plot(np.log10(loaded_data1))"
   ]
  },
  {
   "cell_type": "code",
   "execution_count": 14,
   "id": "0638f517-a108-4e7d-9c7b-56c339104207",
   "metadata": {
    "collapsed": true,
    "jupyter": {
     "outputs_hidden": true,
     "source_hidden": true
    }
   },
   "outputs": [
    {
     "data": {
      "text/plain": [
       "[<matplotlib.lines.Line2D at 0x2831612ceb0>]"
      ]
     },
     "execution_count": 14,
     "metadata": {},
     "output_type": "execute_result"
    },
    {
     "data": {
      "image/png": "[encoded data removed]",
      "text/plain": [
       "<Figure size 640x480 with 1 Axes>"
      ]
     },
     "metadata": {},
     "output_type": "display_data"
    }
   ],
   "source": [
    "# loaded_data2 = np.load('layers_342.npy')\n",
    "# plt.plot(np.log10(loaded_data2))"
   ]
  },
  {
   "cell_type": "markdown",
   "id": "2f287b8c-1308-4103-a82b-9de05905be25",
   "metadata": {},
   "source": [
    "## 5 different unitaries - 373 layers"
   ]
  },
  {
   "cell_type": "code",
   "execution_count": null,
   "id": "d2ddc7cf-7ab5-4281-8104-bc1d3e13d832",
   "metadata": {
    "collapsed": true,
    "jupyter": {
     "outputs_hidden": true
    }
   },
   "outputs": [],
   "source": [
    "layers = 373\n",
    "for h in range(5):\n",
    "    U_goal_list = []\n",
    "    elt = unitary_group.rvs(64)\n",
    "    U_goal_list.append(elt)\n",
    "#print(U_goal)\n",
    "for h in range(5):\n",
    "    A = parameters(layers)\n",
    "    #print(np.shape(A))\n",
    "    AOpt =np.copy(A)\n",
    "    #print(\"Initialisation:\")\n",
    "    Uerr = gradient_descent3(layers,U_goal_list[h], AOpt, 100000)\n",
    "    np.save('layers_373_5diffunitary_%d.npy'%(h), Uerr)\n"
   ]
  },
  {
   "cell_type": "markdown",
   "id": "8f40148f-beb8-4e9a-8af6-d8bff2a3f567",
   "metadata": {},
   "source": [
    "# Same Unitary- 5 initialisations - 373 layers"
   ]
  },
  {
   "cell_type": "code",
   "execution_count": null,
   "id": "068fe25e-5360-4970-a0d8-6406e1b33a1e",
   "metadata": {
    "collapsed": true,
    "jupyter": {
     "outputs_hidden": true
    }
   },
   "outputs": [],
   "source": [
    "layers = 373\n",
    "U_goal = unitary_group.rvs(64)\n",
    "for h in range(5):\n",
    "    A = parameters(layers)\n",
    "    #print(np.shape(A))\n",
    "    AOpt =np.copy(A)\n",
    "    #print(\"Initialisation:\")\n",
    "    Uerr = gradient_descent3(layers,U_goal, AOpt, 100000)\n",
    "    np.save('layers_373_5diffinitial_%d.npy'%(h), Uerr)"
   ]
  },
  {
   "cell_type": "markdown",
   "id": "63396dc6-fd6f-4e61-9f1b-782183a51b12",
   "metadata": {},
   "source": [
    "# Same Unitary for Different Layers 100, 200, 300, 370,373"
   ]
  },
  {
   "cell_type": "code",
   "execution_count": null,
   "id": "b89c8467-6f6a-4073-8eee-df681ff18288",
   "metadata": {
    "collapsed": true,
    "jupyter": {
     "outputs_hidden": true
    }
   },
   "outputs": [],
   "source": [
    "layers_list = [100,200,300,370,373]\n",
    "U_goal = (unitary_group.rvs(64))\n",
    "A = parameters(layers)\n",
    "#print(np.shape(A))\n",
    "AOpt =np.copy(A)\n",
    "for h in range(5):\n",
    "    print(\"Layers:\", layers_list[h])\n",
    "    if layers_list[h]==300:\n",
    "        Uerr = gradient_descent3(layers_list[h],U_goal, AOpt, 5000)\n",
    "    elif layers_list[h]==370:\n",
    "        Uerr = gradient_descent3(layers_list[h],U_goal, AOpt, 20000)\n",
    "    elif layers_list[h]==373:\n",
    "        Uerr = gradient_descent3(layers_list[h],U_goal, AOpt, 100000)\n",
    "    else:\n",
    "        Uerr = gradient_descent3(layers_list[h],U_goal, AOpt, 1000)\n",
    "    np.save('layers_%d_difflayersl.npy'%(layers_list[h]), Uerr)"
   ]
  },
  {
   "cell_type": "markdown",
   "id": "a19465fa-2ac9-4a6b-87a4-59bc37e5b728",
   "metadata": {},
   "source": [
    "# Same Unitary - 5 different initialisation - 100 layers"
   ]
  },
  {
   "cell_type": "code",
   "execution_count": 1,
   "id": "f9d70146-feae-4b9d-a1d2-259c1c69986b",
   "metadata": {
    "collapsed": true,
    "jupyter": {
     "outputs_hidden": true
    }
   },
   "outputs": [
    {
     "ename": "NameError",
     "evalue": "name 'unitary_group' is not defined",
     "output_type": "error",
     "traceback": [
      "\u001b[1;31m---------------------------------------------------------------------------\u001b[0m",
      "\u001b[1;31mNameError\u001b[0m                                 Traceback (most recent call last)",
      "Cell \u001b[1;32mIn[1], line 4\u001b[0m\n\u001b[0;32m      2\u001b[0m \u001b[38;5;28;01mfor\u001b[39;00m h \u001b[38;5;129;01min\u001b[39;00m \u001b[38;5;28mrange\u001b[39m(\u001b[38;5;241m5\u001b[39m):\n\u001b[0;32m      3\u001b[0m     U_goal_list \u001b[38;5;241m=\u001b[39m []\n\u001b[1;32m----> 4\u001b[0m     elt \u001b[38;5;241m=\u001b[39m \u001b[43munitary_group\u001b[49m\u001b[38;5;241m.\u001b[39mrvs(\u001b[38;5;241m64\u001b[39m)\n\u001b[0;32m      5\u001b[0m     U_goal_list\u001b[38;5;241m.\u001b[39mappend(elt)\n\u001b[0;32m      6\u001b[0m \u001b[38;5;66;03m#print(U_goal)\u001b[39;00m\n",
      "\u001b[1;31mNameError\u001b[0m: name 'unitary_group' is not defined"
     ]
    }
   ],
   "source": [
    "layers = 100\n",
    "U_goal = unitary_group.rvs(64)\n",
    "for h in range(5):\n",
    "    A = parameters(layers)\n",
    "    #print(np.shape(A))\n",
    "    AOpt =np.copy(A)\n",
    "    #print(\"Initialisation:\")\n",
    "    Uerr = gradient_descent3(layers,U_goal, AOpt, 1000)\n",
    "    np.save('layers_100_5diffinitial_%d.npy'%(h), Uerr)"
   ]
  },
  {
   "cell_type": "markdown",
   "id": "fa66c30b-14bc-495f-8729-26fc4fac7c6a",
   "metadata": {},
   "source": [
    "# Same Unitary - 5 different initialisation - 200 layers"
   ]
  },
  {
   "cell_type": "code",
   "execution_count": null,
   "id": "4f3d78d7-1922-40b0-9b54-81c3b7dc870b",
   "metadata": {
    "collapsed": true,
    "jupyter": {
     "outputs_hidden": true
    }
   },
   "outputs": [],
   "source": [
    "layers = 200\n",
    "U_goal = unitary_group.rvs(64)\n",
    "for h in range(5):\n",
    "    A = parameters(layers)\n",
    "    #print(np.shape(A))\n",
    "    AOpt =np.copy(A)\n",
    "    #print(\"Initialisation:\")\n",
    "    Uerr = gradient_descent3(layers,U_goal, AOpt, 1000)\n",
    "    np.save('layers_200_5diffinitial_%d.npy'%(h), Uerr)"
   ]
  },
  {
   "cell_type": "markdown",
   "id": "eb347753-e7e3-480e-aecc-58a4245676cb",
   "metadata": {},
   "source": [
    "# Same Unitary - 5 different initialisation - 300 layers"
   ]
  },
  {
   "cell_type": "code",
   "execution_count": null,
   "id": "519775d2-2a66-4a01-9d7d-6a1db74e2ef3",
   "metadata": {
    "collapsed": true,
    "jupyter": {
     "outputs_hidden": true
    }
   },
   "outputs": [],
   "source": [
    "layers = 300\n",
    "U_goal = unitary_group.rvs(64)\n",
    "for h in range(5):\n",
    "    A = parameters(layers)\n",
    "    #print(np.shape(A))\n",
    "    AOpt =np.copy(A)\n",
    "    #print(\"Initialisation:\")\n",
    "    Uerr = gradient_descent3(layers,U_goal, AOpt, 5000)\n",
    "    np.save('layers_300_5diffinitial_%d.npy'%(h), Uerr)"
   ]
  },
  {
   "cell_type": "markdown",
   "id": "ebeb55c2-6107-485a-81f5-a74b725b4771",
   "metadata": {},
   "source": [
    "# Same Unitary - 5 different initialisation - 370 layers"
   ]
  },
  {
   "cell_type": "code",
   "execution_count": null,
   "id": "d46f3737-9774-48d7-b9d5-c11e9821870e",
   "metadata": {
    "collapsed": true,
    "jupyter": {
     "outputs_hidden": true
    }
   },
   "outputs": [],
   "source": [
    "layers = 370\n",
    "U_goal = unitary_group.rvs(64)\n",
    "for h in range(5):\n",
    "    A = parameters(layers)\n",
    "    #print(np.shape(A))\n",
    "    AOpt =np.copy(A)\n",
    "    #print(\"Initialisation:\")\n",
    "    Uerr = gradient_descent3(layers,U_goal, AOpt, 20000)\n",
    "    np.save('layers_370_5diffinitial_%d.npy'%(h), Uerr)"
   ]
  }
 ],
 "metadata": {
  "kernelspec": {
   "display_name": "Python 3 (ipykernel)",
   "language": "python",
   "name": "python3"
  },
  "language_info": {
   "codemirror_mode": {
    "name": "ipython",
    "version": 3
   },
   "file_extension": ".py",
   "mimetype": "text/x-python",
   "name": "python",
   "nbconvert_exporter": "python",
   "pygments_lexer": "ipython3",
   "version": "3.8.3"
  }
 },
 "nbformat": 4,
 "nbformat_minor": 5
}
